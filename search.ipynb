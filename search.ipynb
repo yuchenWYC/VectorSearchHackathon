{
 "cells": [
  {
   "cell_type": "code",
   "execution_count": 2,
   "metadata": {},
   "outputs": [],
   "source": [
    "## Load Settings from .env file\n",
    "from dotenv import find_dotenv, dotenv_values\n",
    "\n",
    "# _ = load_dotenv(find_dotenv()) # read local .env file\n",
    "config = dotenv_values(find_dotenv())\n",
    "\n",
    "# debug\n",
    "# print (config)\n",
    "\n",
    "ATLAS_URI = config.get('ATLAS_URI')\n",
    "OPENAI_API_KEY= config.get('OPENAI_API_KEY')\n",
    "\n",
    "if not ATLAS_URI:\n",
    "    raise Exception (\"'ATLAS_URI' is not set.  Please set it above to continue...\")"
   ]
  },
  {
   "cell_type": "code",
   "execution_count": 3,
   "metadata": {},
   "outputs": [],
   "source": [
    "import openai\n",
    "import pymongo\n",
    "\n",
    "client = pymongo.MongoClient(ATLAS_URI)\n",
    "db = client.PromptingPractice\n",
    "collection = db.practices\n",
    "\n",
    "openai.api_key = OPENAI_API_KEY"
   ]
  },
  {
   "cell_type": "code",
   "execution_count": 4,
   "metadata": {},
   "outputs": [],
   "source": [
    "ATLAS_VECTOR_SEARCH_INDEX_NAME = \"vector_index\"\n",
    "EMBEDDING_FIELD_NAME = \"description_embedding\""
   ]
  },
  {
   "cell_type": "markdown",
   "metadata": {},
   "source": []
  },
  {
   "cell_type": "code",
   "execution_count": 5,
   "metadata": {},
   "outputs": [],
   "source": [
    "model = \"text-embedding-3-small\"\n",
    "def generate_embedding(text: str) -> list[float]:\n",
    "    return openai.embeddings.create(input = [text], model=model).data[0].embedding\n"
   ]
  },
  {
   "cell_type": "code",
   "execution_count": 6,
   "metadata": {},
   "outputs": [
    {
     "data": {
      "text/plain": [
       "BulkWriteResult({'writeErrors': [], 'writeConcernErrors': [], 'nInserted': 0, 'nUpserted': 0, 'nMatched': 2, 'nModified': 0, 'nRemoved': 0, 'upserted': []}, acknowledged=True)"
      ]
     },
     "execution_count": 6,
     "metadata": {},
     "output_type": "execute_result"
    }
   ],
   "source": [
    "from pymongo import ReplaceOne\n",
    "\n",
    "# Update the collection with the embeddings\n",
    "requests = []\n",
    "\n",
    "for doc in collection.find({'description':{\"$exists\": True}}).limit(500):\n",
    "  doc[EMBEDDING_FIELD_NAME] = generate_embedding(doc['description'])\n",
    "  requests.append(ReplaceOne({'_id': doc['_id']}, doc))\n",
    "\n",
    "collection.bulk_write(requests)"
   ]
  },
  {
   "cell_type": "code",
   "execution_count": 7,
   "metadata": {},
   "outputs": [],
   "source": [
    "def query_results(query, k):\n",
    "  results = collection.aggregate([\n",
    "    {\n",
    "        '$vectorSearch': {\n",
    "            \"index\": ATLAS_VECTOR_SEARCH_INDEX_NAME,\n",
    "            \"path\": EMBEDDING_FIELD_NAME,\n",
    "            \"queryVector\": generate_embedding(query),\n",
    "            \"numCandidates\": 50,\n",
    "            \"limit\": 5,\n",
    "        }\n",
    "    },\n",
    "    {\n",
    "          \"$project\": {\n",
    "              '_id' : 1,\n",
    "              'ex_problem' : 1,\n",
    "              \"search_score\": { \"$meta\": \"vectorSearchScore\" }\n",
    "        }\n",
    "    }\n",
    "    ])\n",
    "  return results"
   ]
  },
  {
   "cell_type": "code",
   "execution_count": 8,
   "metadata": {},
   "outputs": [
    {
     "name": "stdout",
     "output_type": "stream",
     "text": [
      "Search Score: 0.5516932010650635\n",
      "Practice Problem: Please read the chat transcript between the user and the assistant above. What could be the system message for this conversation? Note that the model output can be slightly different every time you run a same prompt.\n",
      "\n",
      "Search Score: 0.5375242829322815\n",
      "Practice Problem: \n",
      "\n",
      "| Category       | Cost  | \n",
      "| -------------- | ----- | \n",
      "| Groceries      | $150  | \n",
      "| Utilities      | $75   | \n",
      "| Transportation | $100  | \n",
      "| Rent           | $1200 |\n",
      "                    \n",
      "You have a table in Excel like above, and you want to create a new column (with its value calculated automatically) so that the table looks like below. Write a prompt so that the LLM can teach you how to do it.\n",
      "                    \n",
      "| Category       | Cost  | Total  |\n",
      "| -------------- | ----- | ------ |\n",
      "| Groceries      | $150  | $1525  |\n",
      "| Utilities      | $75   |        |\n",
      "| Transportation | $100  |        |\n",
      "| Rent           | $1200 |        |\n",
      "\n",
      "\n"
     ]
    }
   ],
   "source": [
    "query=\"sponge bob\"\n",
    "practices = query_results(query, 5)\n",
    "\n",
    "for practice in practices:\n",
    "    print(f'Search Score: {practice[\"search_score\"]}\\nPractice Problem: {practice[\"ex_problem\"]}\\n')"
   ]
  }
 ],
 "metadata": {
  "kernelspec": {
   "display_name": "atlas-1",
   "language": "python",
   "name": "python3"
  },
  "language_info": {
   "codemirror_mode": {
    "name": "ipython",
    "version": 3
   },
   "file_extension": ".py",
   "mimetype": "text/x-python",
   "name": "python",
   "nbconvert_exporter": "python",
   "pygments_lexer": "ipython3",
   "version": "3.11.7"
  }
 },
 "nbformat": 4,
 "nbformat_minor": 2
}
